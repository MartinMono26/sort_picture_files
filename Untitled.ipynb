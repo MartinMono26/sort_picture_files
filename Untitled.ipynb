{
 "cells": [
  {
   "cell_type": "code",
   "execution_count": 461,
   "id": "6ea6d225-ca63-4801-8703-eef394e222e5",
   "metadata": {},
   "outputs": [
    {
     "data": {
      "text/plain": [
       "'C:\\\\Users\\\\marti\\\\Desktop\\\\24_SortPictures'"
      ]
     },
     "execution_count": 461,
     "metadata": {},
     "output_type": "execute_result"
    }
   ],
   "source": [
    "import os\n",
    "from pathlib import Path\n",
    "import pandas as pd\n",
    "import numpy as np\n",
    "os.getcwd()"
   ]
  },
  {
   "cell_type": "code",
   "execution_count": 478,
   "id": "e8f5ac5c-aa40-421d-8bd6-5ad4b90489f2",
   "metadata": {},
   "outputs": [
    {
     "name": "stdout",
     "output_type": "stream",
     "text": [
      "F:\\DDEM\\Photos from mars 2014\\2022\\VRAC\n"
     ]
    }
   ],
   "source": [
    "dir_path = Path(r\"C:\\Users\\marti\\Desktop\\24_SortPictures\\workspace/\")\n",
    "dir_path = Path(r\"C:\\Users\\marti\\Desktop\\24_SortPictures\\workspace - Copie/\")\n",
    "dir_path = Path(r\"F:\\DDEM\\Photos from mars 2014\\2022\")\n",
    "vrac_filepath = dir_path / \"VRAC\"\n",
    "print(vrac_filepath)"
   ]
  },
  {
   "cell_type": "code",
   "execution_count": 479,
   "id": "6e077b6a-2817-49b3-a3cd-c6f2531d94cf",
   "metadata": {},
   "outputs": [],
   "source": [
    "NAME_COL=\"name\"\n",
    "SIZE_COL=\"size\"\n",
    "FOLDER_COL=\"folder\"\n",
    "SUBFOLDER_COL=\"folder\""
   ]
  },
  {
   "cell_type": "code",
   "execution_count": 480,
   "id": "9aad2dbf-c060-4502-95b7-52807f99204c",
   "metadata": {},
   "outputs": [
    {
     "data": {
      "text/plain": [
       "[WindowsPath('F:/DDEM/Photos from mars 2014/2022/2022__01'),\n",
       " WindowsPath('F:/DDEM/Photos from mars 2014/2022/2022__02'),\n",
       " WindowsPath('F:/DDEM/Photos from mars 2014/2022/2022__03'),\n",
       " WindowsPath('F:/DDEM/Photos from mars 2014/2022/2022__04'),\n",
       " WindowsPath('F:/DDEM/Photos from mars 2014/2022/2022__05'),\n",
       " WindowsPath('F:/DDEM/Photos from mars 2014/2022/2022__06'),\n",
       " WindowsPath('F:/DDEM/Photos from mars 2014/2022/2022__07'),\n",
       " WindowsPath('F:/DDEM/Photos from mars 2014/2022/2022__09'),\n",
       " WindowsPath('F:/DDEM/Photos from mars 2014/2022/2202_Vanves')]"
      ]
     },
     "execution_count": 480,
     "metadata": {},
     "output_type": "execute_result"
    }
   ],
   "source": [
    "search_dir_paths = [\n",
    "        path for path in Path(vrac_filepath).parent.iterdir()\n",
    "        if path.is_dir() and path != Path(vrac_filepath)\n",
    "]\n",
    "search_dir_paths"
   ]
  },
  {
   "cell_type": "code",
   "execution_count": 481,
   "id": "87ff7888-39cf-41b1-a485-b38bdd4420b3",
   "metadata": {},
   "outputs": [],
   "source": [
    "def scan_files_in_paths(search_dir_paths):\n",
    "# if 1:\n",
    "    ar = np.empty((0, 3))\n",
    "    for dir_path in search_dir_paths:\n",
    "        print(dir_path)\n",
    "        for file in [i for i in dir_path.rglob('*')][:]:\n",
    "            # print(f\"file {file}\")\n",
    "            if file.is_file():\n",
    "                # print(\"file is a file\")\n",
    "                ar_i = np.array([[file.name, file.stat().st_size, str(file.relative_to(dir_path.parent).parent) ]])\n",
    "                ar = np.concatenate((ar, ar_i), axis=0)                        \n",
    "    # print(ar)\n",
    "    df=pd.DataFrame(columns = [NAME_COL, SIZE_COL, FOLDER_COL], data=ar)\n",
    "    # print(df)\n",
    "    return df\n",
    "# df.head(100)"
   ]
  },
  {
   "cell_type": "code",
   "execution_count": 482,
   "id": "5515138f-1df6-440d-bf2f-9026ee8f5a2f",
   "metadata": {},
   "outputs": [
    {
     "name": "stdout",
     "output_type": "stream",
     "text": [
      "F:\\DDEM\\Photos from mars 2014\\2022\\2022__01\n",
      "F:\\DDEM\\Photos from mars 2014\\2022\\2022__02\n",
      "F:\\DDEM\\Photos from mars 2014\\2022\\2022__03\n",
      "F:\\DDEM\\Photos from mars 2014\\2022\\2022__04\n",
      "F:\\DDEM\\Photos from mars 2014\\2022\\2022__05\n",
      "F:\\DDEM\\Photos from mars 2014\\2022\\2022__06\n",
      "F:\\DDEM\\Photos from mars 2014\\2022\\2022__07\n",
      "F:\\DDEM\\Photos from mars 2014\\2022\\2022__09\n",
      "F:\\DDEM\\Photos from mars 2014\\2022\\2202_Vanves\n"
     ]
    },
    {
     "data": {
      "text/html": [
       "<div>\n",
       "<style scoped>\n",
       "    .dataframe tbody tr th:only-of-type {\n",
       "        vertical-align: middle;\n",
       "    }\n",
       "\n",
       "    .dataframe tbody tr th {\n",
       "        vertical-align: top;\n",
       "    }\n",
       "\n",
       "    .dataframe thead th {\n",
       "        text-align: right;\n",
       "    }\n",
       "</style>\n",
       "<table border=\"1\" class=\"dataframe\">\n",
       "  <thead>\n",
       "    <tr style=\"text-align: right;\">\n",
       "      <th></th>\n",
       "      <th>name</th>\n",
       "      <th>size</th>\n",
       "      <th>folder</th>\n",
       "    </tr>\n",
       "  </thead>\n",
       "  <tbody>\n",
       "    <tr>\n",
       "      <th>0</th>\n",
       "      <td>BDHN4188.JPG</td>\n",
       "      <td>6440972</td>\n",
       "      <td>2022__01</td>\n",
       "    </tr>\n",
       "    <tr>\n",
       "      <th>1</th>\n",
       "      <td>BGVD8526.JPG</td>\n",
       "      <td>81617</td>\n",
       "      <td>2022__01</td>\n",
       "    </tr>\n",
       "    <tr>\n",
       "      <th>2</th>\n",
       "      <td>BNRR7066.JPG</td>\n",
       "      <td>3714558</td>\n",
       "      <td>2022__01</td>\n",
       "    </tr>\n",
       "    <tr>\n",
       "      <th>3</th>\n",
       "      <td>BRSC5263.JPG</td>\n",
       "      <td>95300</td>\n",
       "      <td>2022__01</td>\n",
       "    </tr>\n",
       "    <tr>\n",
       "      <th>4</th>\n",
       "      <td>BZFD2341.JPG</td>\n",
       "      <td>216507</td>\n",
       "      <td>2022__01</td>\n",
       "    </tr>\n",
       "    <tr>\n",
       "      <th>5</th>\n",
       "      <td>CGGJ5037.JPG</td>\n",
       "      <td>6684747</td>\n",
       "      <td>2022__01</td>\n",
       "    </tr>\n",
       "    <tr>\n",
       "      <th>6</th>\n",
       "      <td>CRVQ8186.JPG</td>\n",
       "      <td>111215</td>\n",
       "      <td>2022__01</td>\n",
       "    </tr>\n",
       "    <tr>\n",
       "      <th>7</th>\n",
       "      <td>DLQH9222.JPG</td>\n",
       "      <td>353640</td>\n",
       "      <td>2022__01</td>\n",
       "    </tr>\n",
       "    <tr>\n",
       "      <th>8</th>\n",
       "      <td>DOCO0698.JPG</td>\n",
       "      <td>5382256</td>\n",
       "      <td>2022__01</td>\n",
       "    </tr>\n",
       "    <tr>\n",
       "      <th>9</th>\n",
       "      <td>DQPB6548.JPG</td>\n",
       "      <td>93674</td>\n",
       "      <td>2022__01</td>\n",
       "    </tr>\n",
       "  </tbody>\n",
       "</table>\n",
       "</div>"
      ],
      "text/plain": [
       "           name     size    folder\n",
       "0  BDHN4188.JPG  6440972  2022__01\n",
       "1  BGVD8526.JPG    81617  2022__01\n",
       "2  BNRR7066.JPG  3714558  2022__01\n",
       "3  BRSC5263.JPG    95300  2022__01\n",
       "4  BZFD2341.JPG   216507  2022__01\n",
       "5  CGGJ5037.JPG  6684747  2022__01\n",
       "6  CRVQ8186.JPG   111215  2022__01\n",
       "7  DLQH9222.JPG   353640  2022__01\n",
       "8  DOCO0698.JPG  5382256  2022__01\n",
       "9  DQPB6548.JPG    93674  2022__01"
      ]
     },
     "execution_count": 482,
     "metadata": {},
     "output_type": "execute_result"
    }
   ],
   "source": [
    "scan_df = scan_files_in_paths(search_dir_paths)\n",
    "scan_df.head(10)"
   ]
  },
  {
   "cell_type": "code",
   "execution_count": 483,
   "id": "12a66a6e-5ce7-43d7-ae20-497c6f856662",
   "metadata": {},
   "outputs": [
    {
     "data": {
      "text/html": [
       "<div>\n",
       "<style scoped>\n",
       "    .dataframe tbody tr th:only-of-type {\n",
       "        vertical-align: middle;\n",
       "    }\n",
       "\n",
       "    .dataframe tbody tr th {\n",
       "        vertical-align: top;\n",
       "    }\n",
       "\n",
       "    .dataframe thead th {\n",
       "        text-align: right;\n",
       "    }\n",
       "</style>\n",
       "<table border=\"1\" class=\"dataframe\">\n",
       "  <thead>\n",
       "    <tr style=\"text-align: right;\">\n",
       "      <th></th>\n",
       "      <th>name</th>\n",
       "      <th>size</th>\n",
       "      <th>folder</th>\n",
       "    </tr>\n",
       "  </thead>\n",
       "  <tbody>\n",
       "  </tbody>\n",
       "</table>\n",
       "</div>"
      ],
      "text/plain": [
       "Empty DataFrame\n",
       "Columns: [name, size, folder]\n",
       "Index: []"
      ]
     },
     "execution_count": 483,
     "metadata": {},
     "output_type": "execute_result"
    }
   ],
   "source": [
    "scan_df.query(f'{SIZE_COL}.isna()')"
   ]
  },
  {
   "cell_type": "code",
   "execution_count": 484,
   "id": "b160c40b-db08-47bf-a3ea-e0c07ab12dd8",
   "metadata": {},
   "outputs": [
    {
     "name": "stdout",
     "output_type": "stream",
     "text": [
      "F:\\DDEM\\Photos from mars 2014\\2022\\VRAC\n"
     ]
    },
    {
     "data": {
      "text/html": [
       "<div>\n",
       "<style scoped>\n",
       "    .dataframe tbody tr th:only-of-type {\n",
       "        vertical-align: middle;\n",
       "    }\n",
       "\n",
       "    .dataframe tbody tr th {\n",
       "        vertical-align: top;\n",
       "    }\n",
       "\n",
       "    .dataframe thead th {\n",
       "        text-align: right;\n",
       "    }\n",
       "</style>\n",
       "<table border=\"1\" class=\"dataframe\">\n",
       "  <thead>\n",
       "    <tr style=\"text-align: right;\">\n",
       "      <th></th>\n",
       "      <th>name</th>\n",
       "      <th>size</th>\n",
       "      <th>folder</th>\n",
       "    </tr>\n",
       "  </thead>\n",
       "  <tbody>\n",
       "    <tr>\n",
       "      <th>0</th>\n",
       "      <td>PXL_20220925_100546898.jpg</td>\n",
       "      <td>3341460</td>\n",
       "      <td>VRAC</td>\n",
       "    </tr>\n",
       "    <tr>\n",
       "      <th>1</th>\n",
       "      <td>PXL_20220925_111723575.jpg</td>\n",
       "      <td>3429604</td>\n",
       "      <td>VRAC</td>\n",
       "    </tr>\n",
       "    <tr>\n",
       "      <th>2</th>\n",
       "      <td>PXL_20220925_111725156.jpg</td>\n",
       "      <td>3574214</td>\n",
       "      <td>VRAC</td>\n",
       "    </tr>\n",
       "    <tr>\n",
       "      <th>3</th>\n",
       "      <td>PXL_20220925_111755844.mp4</td>\n",
       "      <td>6917755</td>\n",
       "      <td>VRAC</td>\n",
       "    </tr>\n",
       "    <tr>\n",
       "      <th>4</th>\n",
       "      <td>PXL_20220925_111804879.jpg</td>\n",
       "      <td>3802880</td>\n",
       "      <td>VRAC</td>\n",
       "    </tr>\n",
       "  </tbody>\n",
       "</table>\n",
       "</div>"
      ],
      "text/plain": [
       "                         name     size folder\n",
       "0  PXL_20220925_100546898.jpg  3341460   VRAC\n",
       "1  PXL_20220925_111723575.jpg  3429604   VRAC\n",
       "2  PXL_20220925_111725156.jpg  3574214   VRAC\n",
       "3  PXL_20220925_111755844.mp4  6917755   VRAC\n",
       "4  PXL_20220925_111804879.jpg  3802880   VRAC"
      ]
     },
     "execution_count": 484,
     "metadata": {},
     "output_type": "execute_result"
    }
   ],
   "source": [
    "vrac_df = scan_files_in_paths([vrac_filepath])\n",
    "vrac_df.head()"
   ]
  },
  {
   "cell_type": "code",
   "execution_count": 485,
   "id": "7352979b-5d10-4240-a8e3-13b2026a7e2c",
   "metadata": {},
   "outputs": [
    {
     "data": {
      "text/html": [
       "<div>\n",
       "<style scoped>\n",
       "    .dataframe tbody tr th:only-of-type {\n",
       "        vertical-align: middle;\n",
       "    }\n",
       "\n",
       "    .dataframe tbody tr th {\n",
       "        vertical-align: top;\n",
       "    }\n",
       "\n",
       "    .dataframe thead th {\n",
       "        text-align: right;\n",
       "    }\n",
       "</style>\n",
       "<table border=\"1\" class=\"dataframe\">\n",
       "  <thead>\n",
       "    <tr style=\"text-align: right;\">\n",
       "      <th></th>\n",
       "      <th>name</th>\n",
       "      <th>size</th>\n",
       "      <th>folder</th>\n",
       "    </tr>\n",
       "  </thead>\n",
       "  <tbody>\n",
       "  </tbody>\n",
       "</table>\n",
       "</div>"
      ],
      "text/plain": [
       "Empty DataFrame\n",
       "Columns: [name, size, folder]\n",
       "Index: []"
      ]
     },
     "execution_count": 485,
     "metadata": {},
     "output_type": "execute_result"
    }
   ],
   "source": [
    "vrac_df.query(f'{SIZE_COL}.isna()')"
   ]
  },
  {
   "cell_type": "code",
   "execution_count": 486,
   "id": "fe6aedf9-4ed6-40e5-9050-164e2c55009b",
   "metadata": {},
   "outputs": [
    {
     "data": {
      "text/html": [
       "<div>\n",
       "<style scoped>\n",
       "    .dataframe tbody tr th:only-of-type {\n",
       "        vertical-align: middle;\n",
       "    }\n",
       "\n",
       "    .dataframe tbody tr th {\n",
       "        vertical-align: top;\n",
       "    }\n",
       "\n",
       "    .dataframe thead th {\n",
       "        text-align: right;\n",
       "    }\n",
       "</style>\n",
       "<table border=\"1\" class=\"dataframe\">\n",
       "  <thead>\n",
       "    <tr style=\"text-align: right;\">\n",
       "      <th></th>\n",
       "      <th>name</th>\n",
       "      <th>size</th>\n",
       "      <th>folder</th>\n",
       "    </tr>\n",
       "  </thead>\n",
       "  <tbody>\n",
       "    <tr>\n",
       "      <th>0</th>\n",
       "      <td>PXL_20220925_100546898.jpg</td>\n",
       "      <td>3341460</td>\n",
       "      <td>NaN</td>\n",
       "    </tr>\n",
       "    <tr>\n",
       "      <th>1</th>\n",
       "      <td>PXL_20220925_111723575.jpg</td>\n",
       "      <td>3429604</td>\n",
       "      <td>NaN</td>\n",
       "    </tr>\n",
       "    <tr>\n",
       "      <th>2</th>\n",
       "      <td>PXL_20220925_111725156.jpg</td>\n",
       "      <td>3574214</td>\n",
       "      <td>NaN</td>\n",
       "    </tr>\n",
       "    <tr>\n",
       "      <th>3</th>\n",
       "      <td>PXL_20220925_111755844.mp4</td>\n",
       "      <td>6917755</td>\n",
       "      <td>NaN</td>\n",
       "    </tr>\n",
       "    <tr>\n",
       "      <th>4</th>\n",
       "      <td>PXL_20220925_111804879.jpg</td>\n",
       "      <td>3802880</td>\n",
       "      <td>NaN</td>\n",
       "    </tr>\n",
       "    <tr>\n",
       "      <th>...</th>\n",
       "      <td>...</td>\n",
       "      <td>...</td>\n",
       "      <td>...</td>\n",
       "    </tr>\n",
       "    <tr>\n",
       "      <th>696</th>\n",
       "      <td>PXL_20221231_162746184.jpg</td>\n",
       "      <td>2217828</td>\n",
       "      <td>NaN</td>\n",
       "    </tr>\n",
       "    <tr>\n",
       "      <th>697</th>\n",
       "      <td>PXL_20221231_215201755.jpg</td>\n",
       "      <td>2233747</td>\n",
       "      <td>NaN</td>\n",
       "    </tr>\n",
       "    <tr>\n",
       "      <th>698</th>\n",
       "      <td>PXL_20221231_224657114.jpg</td>\n",
       "      <td>3737349</td>\n",
       "      <td>NaN</td>\n",
       "    </tr>\n",
       "    <tr>\n",
       "      <th>699</th>\n",
       "      <td>PXL_20221231_224707469.jpg</td>\n",
       "      <td>4206978</td>\n",
       "      <td>NaN</td>\n",
       "    </tr>\n",
       "    <tr>\n",
       "      <th>700</th>\n",
       "      <td>PXL_20221231_224707469~2.jpg</td>\n",
       "      <td>2403679</td>\n",
       "      <td>NaN</td>\n",
       "    </tr>\n",
       "  </tbody>\n",
       "</table>\n",
       "<p>701 rows × 3 columns</p>\n",
       "</div>"
      ],
      "text/plain": [
       "                             name     size folder\n",
       "0      PXL_20220925_100546898.jpg  3341460    NaN\n",
       "1      PXL_20220925_111723575.jpg  3429604    NaN\n",
       "2      PXL_20220925_111725156.jpg  3574214    NaN\n",
       "3      PXL_20220925_111755844.mp4  6917755    NaN\n",
       "4      PXL_20220925_111804879.jpg  3802880    NaN\n",
       "..                            ...      ...    ...\n",
       "696    PXL_20221231_162746184.jpg  2217828    NaN\n",
       "697    PXL_20221231_215201755.jpg  2233747    NaN\n",
       "698    PXL_20221231_224657114.jpg  3737349    NaN\n",
       "699    PXL_20221231_224707469.jpg  4206978    NaN\n",
       "700  PXL_20221231_224707469~2.jpg  2403679    NaN\n",
       "\n",
       "[701 rows x 3 columns]"
      ]
     },
     "execution_count": 486,
     "metadata": {},
     "output_type": "execute_result"
    }
   ],
   "source": [
    "dupl_df = pd.merge(\n",
    "    left=vrac_df.filter(items=[NAME_COL, SIZE_COL]),\n",
    "    right=scan_df,\n",
    "    on=[NAME_COL, SIZE_COL],\n",
    "    how='left'\n",
    ")\n",
    "dupl_df"
   ]
  },
  {
   "cell_type": "code",
   "execution_count": 487,
   "id": "05a5102e-7aba-4964-a562-a6c9fab41f82",
   "metadata": {},
   "outputs": [
    {
     "data": {
      "text/html": [
       "<div>\n",
       "<style scoped>\n",
       "    .dataframe tbody tr th:only-of-type {\n",
       "        vertical-align: middle;\n",
       "    }\n",
       "\n",
       "    .dataframe tbody tr th {\n",
       "        vertical-align: top;\n",
       "    }\n",
       "\n",
       "    .dataframe thead th {\n",
       "        text-align: right;\n",
       "    }\n",
       "</style>\n",
       "<table border=\"1\" class=\"dataframe\">\n",
       "  <thead>\n",
       "    <tr style=\"text-align: right;\">\n",
       "      <th></th>\n",
       "      <th>name</th>\n",
       "      <th>size</th>\n",
       "      <th>folder</th>\n",
       "    </tr>\n",
       "  </thead>\n",
       "  <tbody>\n",
       "  </tbody>\n",
       "</table>\n",
       "</div>"
      ],
      "text/plain": [
       "Empty DataFrame\n",
       "Columns: [name, size, folder]\n",
       "Index: []"
      ]
     },
     "execution_count": 487,
     "metadata": {},
     "output_type": "execute_result"
    }
   ],
   "source": [
    "to_sup_df = dupl_df.query(\n",
    "    f'{FOLDER_COL}.notna()'\n",
    ")\n",
    "to_sup_df.head(100)"
   ]
  },
  {
   "cell_type": "code",
   "execution_count": 488,
   "id": "4ff7c8bf-976e-4ea1-961b-4fb9a9fde0bc",
   "metadata": {},
   "outputs": [
    {
     "data": {
      "text/plain": [
       "0"
      ]
     },
     "execution_count": 488,
     "metadata": {},
     "output_type": "execute_result"
    }
   ],
   "source": [
    "to_sup_df.size"
   ]
  },
  {
   "cell_type": "code",
   "execution_count": 489,
   "id": "9cf7b53e-d4b4-4b5c-bb47-175919c4cfb1",
   "metadata": {},
   "outputs": [
    {
     "data": {
      "text/plain": [
       "np.int64(0)"
      ]
     },
     "execution_count": 489,
     "metadata": {},
     "output_type": "execute_result"
    }
   ],
   "source": [
    "size_ko = to_sup_df.filter(items=[SIZE_COL]).astype({SIZE_COL: np.int64}).sum().values[0]\n",
    "size_ko"
   ]
  },
  {
   "cell_type": "code",
   "execution_count": 490,
   "id": "6ea6f275-e7a7-4fef-8a0d-b54efc872599",
   "metadata": {},
   "outputs": [
    {
     "name": "stdout",
     "output_type": "stream",
     "text": [
      "0.0 Mo\n"
     ]
    }
   ],
   "source": [
    "print(f'{size_ko/1000000} Mo')"
   ]
  },
  {
   "cell_type": "code",
   "execution_count": 491,
   "id": "bd276101-c384-464f-bd83-22e25ed2cebb",
   "metadata": {},
   "outputs": [],
   "source": [
    "to_sup_df.to_csv(Path(dir_path, \"Removing_duplicates_export.csv\"), sep = \";\", index=False)"
   ]
  },
  {
   "cell_type": "code",
   "execution_count": 492,
   "id": "5a528ac7-1e51-4a93-a9db-43a1da8fef54",
   "metadata": {},
   "outputs": [],
   "source": [
    "if 0:\n",
    "    for i, r in to_sup_df.iterrows():\n",
    "        filepath = Path(vrac_filepath, r[NAME_COL])\n",
    "        print(\"Removing\", filepath, \"\\t\", r[FOLDER_COL])\n",
    "        try:\n",
    "            filepath.unlink()\n",
    "        except:\n",
    "            print(\"BUT NOT FOUND\")\n",
    "        "
   ]
  },
  {
   "cell_type": "code",
   "execution_count": null,
   "id": "a0877f75-7e9c-4da5-9cab-2e4e41ea0f43",
   "metadata": {},
   "outputs": [],
   "source": []
  },
  {
   "cell_type": "code",
   "execution_count": null,
   "id": "944ffcc9-c0d8-4616-9d14-ed40a969ac44",
   "metadata": {},
   "outputs": [],
   "source": []
  },
  {
   "cell_type": "code",
   "execution_count": null,
   "id": "a1bf3a3f-7a74-4b02-ba23-eb35ad9a4a16",
   "metadata": {},
   "outputs": [],
   "source": []
  },
  {
   "cell_type": "code",
   "execution_count": null,
   "id": "a493637e-d872-4028-a0be-5e2f75bb28c0",
   "metadata": {},
   "outputs": [],
   "source": []
  },
  {
   "cell_type": "code",
   "execution_count": null,
   "id": "de6e6a75-99d8-4719-b848-80c3a24a3384",
   "metadata": {},
   "outputs": [],
   "source": []
  },
  {
   "cell_type": "code",
   "execution_count": 425,
   "id": "f334e28b-4f18-41aa-ab19-8f56984e9b68",
   "metadata": {},
   "outputs": [
    {
     "data": {
      "text/html": [
       "<div>\n",
       "<style scoped>\n",
       "    .dataframe tbody tr th:only-of-type {\n",
       "        vertical-align: middle;\n",
       "    }\n",
       "\n",
       "    .dataframe tbody tr th {\n",
       "        vertical-align: top;\n",
       "    }\n",
       "\n",
       "    .dataframe thead th {\n",
       "        text-align: right;\n",
       "    }\n",
       "</style>\n",
       "<table border=\"1\" class=\"dataframe\">\n",
       "  <thead>\n",
       "    <tr style=\"text-align: right;\">\n",
       "      <th></th>\n",
       "      <th>id</th>\n",
       "      <th>age</th>\n",
       "      <th>z</th>\n",
       "    </tr>\n",
       "  </thead>\n",
       "  <tbody>\n",
       "    <tr>\n",
       "      <th>0</th>\n",
       "      <td>3</td>\n",
       "      <td>23</td>\n",
       "      <td>54</td>\n",
       "    </tr>\n",
       "    <tr>\n",
       "      <th>1</th>\n",
       "      <td>4</td>\n",
       "      <td>34</td>\n",
       "      <td>44</td>\n",
       "    </tr>\n",
       "    <tr>\n",
       "      <th>2</th>\n",
       "      <td>5</td>\n",
       "      <td>45</td>\n",
       "      <td>44</td>\n",
       "    </tr>\n",
       "    <tr>\n",
       "      <th>3</th>\n",
       "      <td>6</td>\n",
       "      <td>56</td>\n",
       "      <td>44</td>\n",
       "    </tr>\n",
       "  </tbody>\n",
       "</table>\n",
       "</div>"
      ],
      "text/plain": [
       "   id  age   z\n",
       "0   3   23  54\n",
       "1   4   34  44\n",
       "2   5   45  44\n",
       "3   6   56  44"
      ]
     },
     "execution_count": 425,
     "metadata": {},
     "output_type": "execute_result"
    }
   ],
   "source": [
    "df1 = pd.DataFrame({\n",
    "    'id': [3, 4, 5, 6],\n",
    "    'age': [23, 34, 45, 56],\n",
    "    'z': [54, 44, 44, 44]\n",
    "})\n",
    "df1"
   ]
  },
  {
   "cell_type": "code",
   "execution_count": 426,
   "id": "866b4f21-14cd-4225-91f5-4b8607e25231",
   "metadata": {},
   "outputs": [
    {
     "data": {
      "text/html": [
       "<div>\n",
       "<style scoped>\n",
       "    .dataframe tbody tr th:only-of-type {\n",
       "        vertical-align: middle;\n",
       "    }\n",
       "\n",
       "    .dataframe tbody tr th {\n",
       "        vertical-align: top;\n",
       "    }\n",
       "\n",
       "    .dataframe thead th {\n",
       "        text-align: right;\n",
       "    }\n",
       "</style>\n",
       "<table border=\"1\" class=\"dataframe\">\n",
       "  <thead>\n",
       "    <tr style=\"text-align: right;\">\n",
       "      <th></th>\n",
       "      <th>id</th>\n",
       "      <th>age</th>\n",
       "      <th>z</th>\n",
       "    </tr>\n",
       "  </thead>\n",
       "  <tbody>\n",
       "    <tr>\n",
       "      <th>0</th>\n",
       "      <td>3</td>\n",
       "      <td>23</td>\n",
       "      <td>54</td>\n",
       "    </tr>\n",
       "    <tr>\n",
       "      <th>1</th>\n",
       "      <td>4</td>\n",
       "      <td>34</td>\n",
       "      <td>44</td>\n",
       "    </tr>\n",
       "    <tr>\n",
       "      <th>2</th>\n",
       "      <td>5</td>\n",
       "      <td>8</td>\n",
       "      <td>8</td>\n",
       "    </tr>\n",
       "    <tr>\n",
       "      <th>3</th>\n",
       "      <td>6</td>\n",
       "      <td>56</td>\n",
       "      <td>44</td>\n",
       "    </tr>\n",
       "  </tbody>\n",
       "</table>\n",
       "</div>"
      ],
      "text/plain": [
       "   id  age   z\n",
       "0   3   23  54\n",
       "1   4   34  44\n",
       "2   5    8   8\n",
       "3   6   56  44"
      ]
     },
     "execution_count": 426,
     "metadata": {},
     "output_type": "execute_result"
    }
   ],
   "source": [
    "df2 = pd.DataFrame({\n",
    "    'id': [3, 4, 5, 6],\n",
    "    'age': [23, 34, 8, 56],\n",
    "    'z': [54, 44, 8, 44]\n",
    "})\n",
    "df2"
   ]
  },
  {
   "cell_type": "code",
   "execution_count": 427,
   "id": "56da2b17-b4d6-4627-9034-f117b4db5cb0",
   "metadata": {},
   "outputs": [
    {
     "data": {
      "text/html": [
       "<div>\n",
       "<style scoped>\n",
       "    .dataframe tbody tr th:only-of-type {\n",
       "        vertical-align: middle;\n",
       "    }\n",
       "\n",
       "    .dataframe tbody tr th {\n",
       "        vertical-align: top;\n",
       "    }\n",
       "\n",
       "    .dataframe thead th {\n",
       "        text-align: right;\n",
       "    }\n",
       "</style>\n",
       "<table border=\"1\" class=\"dataframe\">\n",
       "  <thead>\n",
       "    <tr style=\"text-align: right;\">\n",
       "      <th></th>\n",
       "      <th>id</th>\n",
       "      <th>age</th>\n",
       "      <th>z</th>\n",
       "    </tr>\n",
       "  </thead>\n",
       "  <tbody>\n",
       "    <tr>\n",
       "      <th>0</th>\n",
       "      <td>3</td>\n",
       "      <td>23</td>\n",
       "      <td>54</td>\n",
       "    </tr>\n",
       "    <tr>\n",
       "      <th>1</th>\n",
       "      <td>4</td>\n",
       "      <td>34</td>\n",
       "      <td>44</td>\n",
       "    </tr>\n",
       "    <tr>\n",
       "      <th>2</th>\n",
       "      <td>6</td>\n",
       "      <td>56</td>\n",
       "      <td>44</td>\n",
       "    </tr>\n",
       "  </tbody>\n",
       "</table>\n",
       "</div>"
      ],
      "text/plain": [
       "   id  age   z\n",
       "0   3   23  54\n",
       "1   4   34  44\n",
       "2   6   56  44"
      ]
     },
     "execution_count": 427,
     "metadata": {},
     "output_type": "execute_result"
    }
   ],
   "source": [
    "dd = pd.merge(\n",
    "    left=df1.filter(items=['id', 'age']),\n",
    "    right=df2,\n",
    "    on=['id', 'age'],\n",
    "    how='inner'\n",
    ")\n",
    "dd"
   ]
  },
  {
   "cell_type": "code",
   "execution_count": null,
   "id": "b1d96f52-5773-48fb-939a-1643a02975b5",
   "metadata": {},
   "outputs": [],
   "source": []
  }
 ],
 "metadata": {
  "kernelspec": {
   "display_name": "Python 3 (ipykernel)",
   "language": "python",
   "name": "python3"
  },
  "language_info": {
   "codemirror_mode": {
    "name": "ipython",
    "version": 3
   },
   "file_extension": ".py",
   "mimetype": "text/x-python",
   "name": "python",
   "nbconvert_exporter": "python",
   "pygments_lexer": "ipython3",
   "version": "3.12.6"
  }
 },
 "nbformat": 4,
 "nbformat_minor": 5
}
